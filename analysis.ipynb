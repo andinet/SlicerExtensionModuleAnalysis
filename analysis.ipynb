{
 "cells": [
  {
   "cell_type": "code",
   "execution_count": 1,
   "id": "import-pandas",
   "metadata": {},
   "outputs": [],
   "source": [
    "import pandas as pd\n"
   ]
  },
  {
   "cell_type": "code",
   "execution_count": 2,
   "id": "fe81d8a3",
   "metadata": {},
   "outputs": [],
   "source": [
    "\n",
    "# Load the Excel file\n",
    "file_path = \"Slicer Extensions Download stats as of 2025.03.08.xlsx\"  # Update path as needed\n",
    "excel_data = pd.ExcelFile(file_path)\n",
    "\n",
    "# Reshape all sheets\n",
    "reshaped_data = []\n",
    "\n",
    "for sheet in excel_data.sheet_names:\n",
    "    # Parse sheet using second row as header (row index 1)\n",
    "    df = excel_data.parse(sheet, header=1)\n",
    "    \n",
    "    # Rename columns for clarity\n",
    "    df.rename(columns={df.columns[0]: \"ID\", df.columns[1]: \"Extension\"}, inplace=True)\n",
    "    \n",
    "    # Drop rows without an extension name\n",
    "    df = df.dropna(subset=[\"Extension\"])\n",
    "    \n",
    "    # Add sheet name as date info\n",
    "    df[\"Date\"] = sheet\n",
    "\n",
    "    # Reshape the data: each row will be Extension, Version_Info, Downloads\n",
    "    df_melted = df.melt(id_vars=[\"Extension\", \"Date\"], \n",
    "                        var_name=\"Version_Info\", \n",
    "                        value_name=\"Downloads\")\n",
    "\n",
    "    reshaped_data.append(df_melted)\n",
    "\n",
    "# Combine all dataframes\n",
    "long_df = pd.concat(reshaped_data, ignore_index=True)\n",
    "\n",
    "# Clean up non-numeric download counts\n",
    "long_df = long_df[pd.to_numeric(long_df[\"Downloads\"], errors=\"coerce\").notnull()]\n",
    "long_df[\"Downloads\"] = long_df[\"Downloads\"].astype(int)\n",
    "\n",
    "# Optional: remove rows with invalid version names (e.g., 'ID', 'post-5.x.x')\n",
    "long_df = long_df[~long_df[\"Version_Info\"].str.contains(\"post-|ID\", na=False)]\n",
    "\n",
    "\n"
   ]
  },
  {
   "cell_type": "code",
   "execution_count": 3,
   "id": "3d3a5bc5",
   "metadata": {},
   "outputs": [
    {
     "name": "stdout",
     "output_type": "stream",
     "text": [
      "    Extension Version_Info  Total_Downloads  Rank\n",
      "0           0        4.0.0                0   1.0\n",
      "24          6        4.0.0                0   1.0\n",
      "48          8        4.0.0                0   1.0\n",
      "72          9        4.0.0                0   1.0\n",
      "96         16        4.0.0                0   1.0\n",
      "120        21        4.0.0                0   1.0\n",
      "144        22        4.0.0                0   1.0\n",
      "168        24        4.0.0                0   1.0\n",
      "192        25        4.0.0                0   1.0\n",
      "216        26        4.0.0                0   1.0\n"
     ]
    }
   ],
   "source": [
    "\n",
    "# Group by Extension and Version_Info to get total downloads\n",
    "grouped = long_df.groupby([\"Extension\", \"Version_Info\"]).agg(\n",
    "    Total_Downloads=(\"Downloads\", \"sum\")\n",
    ").reset_index()\n",
    "\n",
    "# Rank by total downloads\n",
    "grouped[\"Rank\"] = grouped.groupby(\"Version_Info\")[\"Total_Downloads\"].rank(\n",
    "    method=\"dense\", ascending=False\n",
    ")\n",
    "\n",
    "# Sort results\n",
    "grouped_sorted = grouped.sort_values(by=[\"Version_Info\", \"Rank\"])\n",
    "\n",
    "# Save results if needed\n",
    "# grouped_sorted.to_csv(\"slicer_extension_rankings.csv\", index=False)\n",
    "\n",
    "# Display top N (e.g., 10) entries for a quick look\n",
    "print(grouped_sorted.head(10))\n"
   ]
  }
 ],
 "metadata": {
  "kernelspec": {
   "display_name": "Slicer Discourse Analystics env",
   "language": "python",
   "name": "slicerdiscourseanalytics-env"
  },
  "language_info": {
   "codemirror_mode": {
    "name": "ipython",
    "version": 3
   },
   "file_extension": ".py",
   "mimetype": "text/x-python",
   "name": "python",
   "nbconvert_exporter": "python",
   "pygments_lexer": "ipython3",
   "version": "3.10.14"
  }
 },
 "nbformat": 4,
 "nbformat_minor": 5
}
