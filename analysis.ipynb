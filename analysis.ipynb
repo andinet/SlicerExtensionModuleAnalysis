{
 "cells": [
  {
   "cell_type": "code",
   "execution_count": 1,
   "id": "import-pandas",
   "metadata": {},
   "outputs": [],
   "source": [
    "import pandas as pd\n"
   ]
  },
  {
   "cell_type": "code",
   "execution_count": 6,
   "id": "fe81d8a3",
   "metadata": {},
   "outputs": [],
   "source": [
    "\n",
    "# Load the Excel file\n",
    "file_path = \"Slicer Extensions Download stats as of 2025.03.08.xlsx\"  # Update path as needed\n",
    "excel_data = pd.ExcelFile(file_path)\n",
    "\n",
    "# Reshape all sheets\n",
    "reshaped_data = []\n",
    "\n",
    "for sheet in excel_data.sheet_names:\n",
    "    # Parse sheet using second row as header (row index 1)\n",
    "    df = excel_data.parse(sheet, header=1)\n",
    "    \n",
    "    # Rename columns for clarity\n",
    "    df.rename(columns={df.columns[0]: \"ID\", df.columns[1]: \"Extension\"}, inplace=True)\n",
    "    \n",
    "    # Drop rows without an extension name\n",
    "    df = df.dropna(subset=[\"Extension\"])\n",
    "    \n",
    "    # Add sheet name as date info\n",
    "    df[\"Date\"] = sheet\n",
    "\n",
    "    # Reshape the data: each row will be Extension, Version_Info, Downloads\n",
    "    df_melted = df.melt(id_vars=[\"Extension\", \"Date\"], \n",
    "                        var_name=\"Version_Info\", \n",
    "                        value_name=\"Downloads\")\n",
    "\n",
    "    reshaped_data.append(df_melted)\n",
    "\n",
    "# Combine all dataframes\n",
    "long_df = pd.concat(reshaped_data, ignore_index=True)\n",
    "\n",
    "# Clean up non-numeric download counts\n",
    "long_df = long_df[pd.to_numeric(long_df[\"Downloads\"], errors=\"coerce\").notnull()]\n",
    "long_df[\"Downloads\"] = long_df[\"Downloads\"].astype(int)\n",
    "\n",
    "# Optional: remove rows with invalid version names (e.g., 'ID', 'post-5.x.x')\n",
    "long_df = long_df[~long_df[\"Version_Info\"].str.contains(\"post-|ID\", na=False)]\n",
    "\n",
    "# ✅ Remove numeric or bad extension labels\n",
    "long_df = long_df[long_df[\"Extension\"].apply(lambda x: isinstance(x, str) and not x.strip().isdigit())]\n"
   ]
  },
  {
   "cell_type": "code",
   "execution_count": 7,
   "id": "3d3a5bc5",
   "metadata": {},
   "outputs": [
    {
     "name": "stdout",
     "output_type": "stream",
     "text": [
      "                       Extension Version_Info  Total_Downloads  Rank\n",
      "0                            ABC        4.0.0                0   1.0\n",
      "63   ABLTemporalBoneSegmentation        4.0.0                0   1.0\n",
      "126              AblationPlanner        4.0.0                0   1.0\n",
      "189           AirwaySegmentation        4.0.0                0   1.0\n",
      "252         AnglePlanesExtension        4.0.0                0   1.0\n",
      "315    AnomalousFiltersExtension        4.0.0                0   1.0\n",
      "378            ArduinoController        4.0.0                0   1.0\n",
      "441              AstmPhantomTest        4.0.0                0   1.0\n",
      "504                     Auto3dgm        4.0.0                0   1.0\n",
      "601                   Autoscroll        4.0.0                0   1.0\n"
     ]
    }
   ],
   "source": [
    "\n",
    "# Group by Extension and Version_Info to get total downloads\n",
    "grouped = long_df.groupby([\"Extension\", \"Version_Info\"]).agg(\n",
    "    Total_Downloads=(\"Downloads\", \"sum\")\n",
    ").reset_index()\n",
    "\n",
    "# Rank by total downloads\n",
    "grouped[\"Rank\"] = grouped.groupby(\"Version_Info\")[\"Total_Downloads\"].rank(\n",
    "    method=\"dense\", ascending=False\n",
    ")\n",
    "\n",
    "# Sort results\n",
    "grouped_sorted = grouped.sort_values(by=[\"Version_Info\", \"Rank\"])\n",
    "\n",
    "# Save results if needed\n",
    "# grouped_sorted.to_csv(\"slicer_extension_rankings.csv\", index=False)\n",
    "\n",
    "# Display top N (e.g., 10) entries for a quick look\n",
    "print(grouped_sorted.head(10))\n"
   ]
  },
  {
   "cell_type": "code",
   "execution_count": 9,
   "id": "d9e7e03c",
   "metadata": {},
   "outputs": [
    {
     "name": "stdout",
     "output_type": "stream",
     "text": [
      "                     Extension  Total_Downloads  Rank\n",
      "274            UKFTractography           467600   1.0\n",
      "243                 SlicerVMTK           464705   2.0\n",
      "285          WindowLevelEffect           433483   3.0\n",
      "35                  CurveMaker           431953   4.0\n",
      "256         SwissSkullStripper           426138   5.0\n",
      "171         SegmentationWizard           403562   6.0\n",
      "135      PickAndPaintExtension           401825   7.0\n",
      "282                 VolumeClip           398399   8.0\n",
      "157                 SPHARM-PDM           385916   9.0\n",
      "262                     TOMAAT           381251  10.0\n",
      "260                TCIABrowser           379101  11.0\n",
      "216        SlicerLayoutButtons           362576  12.0\n",
      "257                  T1Mapping           359938  13.0\n",
      "259                  T2mapping           358297  14.0\n",
      "294           lapdMouseBrowser           353581  15.0\n",
      "156             SNRMeasurement           347564  16.0\n",
      "286                 XNATSlicer           343119  17.0\n",
      "73                       IASEM           330540  18.0\n",
      "292                      iGyne           328675  19.0\n",
      "236                   SlicerRT           304505  20.0\n",
      "162  SegmentEditorExtraEffects           298175  21.0\n",
      "99              MarkupsToModel           273537  22.0\n",
      "237            SlicerRadiomics           186157  23.0\n",
      "166        SegmentRegistration           164669  24.0\n",
      "205              SlicerElastix           159188  25.0\n"
     ]
    }
   ],
   "source": [
    "# Group by Extension only (not by version)\n",
    "extension_totals = long_df.groupby(\"Extension\").agg(\n",
    "    Total_Downloads=(\"Downloads\", \"sum\")\n",
    ").reset_index()\n",
    "\n",
    "\n",
    "# Rank extensions by total downloads\n",
    "extension_totals[\"Rank\"] = extension_totals[\"Total_Downloads\"].rank(\n",
    "    method=\"dense\", ascending=False\n",
    ")\n",
    "\n",
    "# Sort by rank\n",
    "ranked_extensions = extension_totals.sort_values(by=\"Rank\")\n",
    "\n",
    "# Save or display\n",
    "# ranked_extensions.to_csv(\"slicer_extensions_ranked_by_downloads.csv\", index=False)\n",
    "print(ranked_extensions.head(25))"
   ]
  },
  {
   "cell_type": "code",
   "execution_count": 14,
   "id": "3d707a1e",
   "metadata": {},
   "outputs": [
    {
     "name": "stdout",
     "output_type": "stream",
     "text": [
      "                     Extension  Total_Downloads  Rank\n",
      "142                    PyTorch             4528   1.0\n",
      "111                     NNUNet             3015   2.0\n",
      "235     SlicerPythonTestRunner             2943   3.0\n",
      "99              MarkupsToModel             2787   4.0\n",
      "162  SegmentEditorExtraEffects             2667   5.0\n",
      "267           TotalSegmentator             2299   6.0\n",
      "236                   SlicerRT             1281   7.0\n",
      "36                       DCMQI             1201   8.0\n",
      "51           DentalSegmentator             1098   9.0\n",
      "205              SlicerElastix             1090  10.0\n",
      "94              MONAIAuto3DSeg             1071  11.0\n",
      "255        SurfaceWrapSolidify             1011  12.0\n",
      "222                SlicerMorph              946  13.0\n",
      "211                  SlicerIGT              939  14.0\n",
      "243                 SlicerVMTK              934  15.0\n",
      "254              SurfaceMarkup              924  16.0\n",
      "203   SlicerDevelopmentToolbox              920  17.0\n",
      "210                SlicerIGSIO              919  18.0\n",
      "144      QuantitativeReporting              889  19.0\n",
      "95                  MONAILabel              842  20.0\n"
     ]
    }
   ],
   "source": [
    "# ✅ Extract and filter only versions >= 5.8.0\n",
    "import re\n",
    "from packaging.version import Version\n",
    "\n",
    "\n",
    "def extract_version(v):\n",
    "    match = re.match(r\"(\\d+\\.\\d+(\\.\\d+)?)\", str(v))\n",
    "    return Version(match.group(1)) if match else None\n",
    "\n",
    "long_df[\"Parsed_Version\"] = long_df[\"Version_Info\"].apply(extract_version)\n",
    "long_df = long_df[long_df[\"Parsed_Version\"].notnull()]\n",
    "long_df = long_df[long_df[\"Parsed_Version\"] >= Version(\"5.8.0\")]\n",
    "\n",
    "# Group and rank by extension\n",
    "filtered_rank = long_df.groupby(\"Extension\").agg(\n",
    "    Total_Downloads=(\"Downloads\", \"sum\")\n",
    ").reset_index()\n",
    "\n",
    "filtered_rank[\"Rank\"] = filtered_rank[\"Total_Downloads\"].rank(method=\"dense\", ascending=False)\n",
    "filtered_rank = filtered_rank.sort_values(by=\"Rank\")\n",
    "\n",
    "# Save or preview\n",
    "# filtered_rank.to_csv(\"slicer_extensions_ranked_5.8_and_later.csv\", index=False)\n",
    "print(filtered_rank.head(20))"
   ]
  }
 ],
 "metadata": {
  "kernelspec": {
   "display_name": "Slicer Discourse Analystics env",
   "language": "python",
   "name": "slicerdiscourseanalytics-env"
  },
  "language_info": {
   "codemirror_mode": {
    "name": "ipython",
    "version": 3
   },
   "file_extension": ".py",
   "mimetype": "text/x-python",
   "name": "python",
   "nbconvert_exporter": "python",
   "pygments_lexer": "ipython3",
   "version": "3.10.14"
  }
 },
 "nbformat": 4,
 "nbformat_minor": 5
}
